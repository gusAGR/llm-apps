{
 "cells": [
  {
   "cell_type": "code",
   "id": "2b915533",
   "metadata": {
    "ExecuteTime": {
     "end_time": "2024-12-11T08:13:59.279849Z",
     "start_time": "2024-12-11T08:13:59.276049Z"
    }
   },
   "source": [
    "#!pip install langchain====0.1.13\n",
    "#!pip install langchain-openai==0.1.0"
   ],
   "outputs": [],
   "execution_count": 3
  },
  {
   "cell_type": "code",
   "id": "d7e52a90",
   "metadata": {
    "ExecuteTime": {
     "end_time": "2024-12-11T08:13:59.286775Z",
     "start_time": "2024-12-11T08:13:59.284031Z"
    }
   },
   "source": [
    "#!pip install openai==1.14.2"
   ],
   "outputs": [],
   "execution_count": 4
  },
  {
   "cell_type": "code",
   "id": "ed3f07a4",
   "metadata": {
    "ExecuteTime": {
     "end_time": "2024-12-11T08:15:05.535140Z",
     "start_time": "2024-12-11T08:15:05.531501Z"
    }
   },
   "source": [
    "import os\n",
    "apy_key = os.getenv(\"HUGGINGFACEHUB_API_TOKEN\")"
   ],
   "outputs": [],
   "execution_count": 17
  },
  {
   "cell_type": "code",
   "id": "a7dc8c79",
   "metadata": {
    "ExecuteTime": {
     "end_time": "2024-12-11T08:15:08.593213Z",
     "start_time": "2024-12-11T08:15:08.576121Z"
    }
   },
   "source": [
    "from langchain_community.llms import HuggingFaceEndpoint\n",
    "llm = HuggingFaceEndpoint(repo_id=\"mistralai/Mistral-7B-Instruct-v0.2\")  # Model link : https://huggingfac .co/mistralai/Mistral-7B-Instruct-v0.2"
   ],
   "outputs": [
    {
     "ename": "ValidationError",
     "evalue": "1 validation error for HuggingFaceEndpoint\n__root__\n  Could not authenticate with huggingface_hub. Please check your API token. (type=value_error)",
     "output_type": "error",
     "traceback": [
      "\u001B[1;31m---------------------------------------------------------------------------\u001B[0m",
      "\u001B[1;31mValidationError\u001B[0m                           Traceback (most recent call last)",
      "Cell \u001B[1;32mIn[18], line 2\u001B[0m\n\u001B[0;32m      1\u001B[0m \u001B[38;5;28;01mfrom\u001B[39;00m \u001B[38;5;21;01mlangchain_community\u001B[39;00m\u001B[38;5;21;01m.\u001B[39;00m\u001B[38;5;21;01mllms\u001B[39;00m \u001B[38;5;28;01mimport\u001B[39;00m HuggingFaceEndpoint\n\u001B[1;32m----> 2\u001B[0m llm \u001B[38;5;241m=\u001B[39m \u001B[43mHuggingFaceEndpoint\u001B[49m\u001B[43m(\u001B[49m\u001B[43mrepo_id\u001B[49m\u001B[38;5;241;43m=\u001B[39;49m\u001B[38;5;124;43m\"\u001B[39;49m\u001B[38;5;124;43mmistralai/Mistral-7B-Instruct-v0.2\u001B[39;49m\u001B[38;5;124;43m\"\u001B[39;49m\u001B[43m)\u001B[49m  \u001B[38;5;66;03m# Model link : https://huggingfac .co/mistralai/Mistral-7B-Instruct-v0.2\u001B[39;00m\n",
      "File \u001B[1;32mC:\\DEV\\Coursera_langChain_masterclass\\llm-apps\\venv\\Lib\\site-packages\\pydantic\\v1\\main.py:341\u001B[0m, in \u001B[0;36mBaseModel.__init__\u001B[1;34m(__pydantic_self__, **data)\u001B[0m\n\u001B[0;32m    339\u001B[0m values, fields_set, validation_error \u001B[38;5;241m=\u001B[39m validate_model(__pydantic_self__\u001B[38;5;241m.\u001B[39m\u001B[38;5;18m__class__\u001B[39m, data)\n\u001B[0;32m    340\u001B[0m \u001B[38;5;28;01mif\u001B[39;00m validation_error:\n\u001B[1;32m--> 341\u001B[0m     \u001B[38;5;28;01mraise\u001B[39;00m validation_error\n\u001B[0;32m    342\u001B[0m \u001B[38;5;28;01mtry\u001B[39;00m:\n\u001B[0;32m    343\u001B[0m     object_setattr(__pydantic_self__, \u001B[38;5;124m'\u001B[39m\u001B[38;5;124m__dict__\u001B[39m\u001B[38;5;124m'\u001B[39m, values)\n",
      "\u001B[1;31mValidationError\u001B[0m: 1 validation error for HuggingFaceEndpoint\n__root__\n  Could not authenticate with huggingface_hub. Please check your API token. (type=value_error)"
     ]
    }
   ],
   "execution_count": 18
  },
  {
   "cell_type": "markdown",
   "id": "6dc69726",
   "metadata": {},
   "source": [
    "### Comma Separated List"
   ]
  },
  {
   "cell_type": "code",
   "id": "6eedd807",
   "metadata": {
    "ExecuteTime": {
     "end_time": "2024-12-11T08:14:35.107572Z",
     "start_time": "2024-12-11T08:14:34.991914Z"
    }
   },
   "source": [
    "from langchain.prompts import PromptTemplate\n",
    "from langchain.output_parsers import CommaSeparatedListOutputParser"
   ],
   "outputs": [],
   "execution_count": 7
  },
  {
   "cell_type": "markdown",
   "id": "044b2167",
   "metadata": {},
   "source": [
    "<font color=\"green\">\n",
    "Creating an object of CommaSeparatedListOutputParser<font>"
   ]
  },
  {
   "cell_type": "code",
   "id": "732e3be4",
   "metadata": {
    "ExecuteTime": {
     "end_time": "2024-12-11T08:14:36.565052Z",
     "start_time": "2024-12-11T08:14:36.561811Z"
    }
   },
   "source": [
    "output_parser = CommaSeparatedListOutputParser()"
   ],
   "outputs": [],
   "execution_count": 8
  },
  {
   "cell_type": "code",
   "id": "e7e0e146",
   "metadata": {
    "ExecuteTime": {
     "end_time": "2024-12-11T08:14:37.593630Z",
     "start_time": "2024-12-11T08:14:37.590433Z"
    }
   },
   "source": [
    "format_instructions = output_parser.get_format_instructions()"
   ],
   "outputs": [],
   "execution_count": 9
  },
  {
   "cell_type": "code",
   "id": "ffbb2578",
   "metadata": {
    "ExecuteTime": {
     "end_time": "2024-12-11T08:14:40.937326Z",
     "start_time": "2024-12-11T08:14:40.931648Z"
    }
   },
   "source": [
    "format_instructions"
   ],
   "outputs": [
    {
     "data": {
      "text/plain": [
       "'Your response should be a list of comma separated values, eg: `foo, bar, baz` or `foo,bar,baz`'"
      ]
     },
     "execution_count": 11,
     "metadata": {},
     "output_type": "execute_result"
    }
   ],
   "execution_count": 11
  },
  {
   "cell_type": "code",
   "id": "c50fcc06",
   "metadata": {
    "ExecuteTime": {
     "end_time": "2024-12-11T08:14:42.622867Z",
     "start_time": "2024-12-11T08:14:42.618815Z"
    }
   },
   "source": [
    "prompt = PromptTemplate(\n",
    "    template=\"Provide 5 examples of {query}.\\n{format_instructions}\",\n",
    "    input_variables=[\"query\"],\n",
    "    partial_variables={\"format_instructions\": format_instructions}\n",
    ")"
   ],
   "outputs": [],
   "execution_count": 12
  },
  {
   "cell_type": "code",
   "id": "04923e9f",
   "metadata": {
    "ExecuteTime": {
     "end_time": "2024-12-11T08:14:45.264743Z",
     "start_time": "2024-12-11T08:14:45.260785Z"
    }
   },
   "source": [
    "prompt = prompt.format(query=\"Currencies\")"
   ],
   "outputs": [],
   "execution_count": 13
  },
  {
   "cell_type": "code",
   "id": "2ce6d395",
   "metadata": {
    "ExecuteTime": {
     "end_time": "2024-12-11T08:14:46.965957Z",
     "start_time": "2024-12-11T08:14:46.961587Z"
    }
   },
   "source": [
    "print(prompt)"
   ],
   "outputs": [
    {
     "name": "stdout",
     "output_type": "stream",
     "text": [
      "Provide 5 examples of Currencies.\n",
      "Your response should be a list of comma separated values, eg: `foo, bar, baz` or `foo,bar,baz`\n"
     ]
    }
   ],
   "execution_count": 14
  },
  {
   "cell_type": "code",
   "id": "074c1fee",
   "metadata": {
    "ExecuteTime": {
     "end_time": "2024-12-11T08:14:51.125426Z",
     "start_time": "2024-12-11T08:14:51.100295Z"
    }
   },
   "source": [
    "output = llm.invoke(prompt)\n",
    "print(output)"
   ],
   "outputs": [
    {
     "ename": "NameError",
     "evalue": "name 'llm' is not defined",
     "output_type": "error",
     "traceback": [
      "\u001B[1;31m---------------------------------------------------------------------------\u001B[0m",
      "\u001B[1;31mNameError\u001B[0m                                 Traceback (most recent call last)",
      "Cell \u001B[1;32mIn[15], line 1\u001B[0m\n\u001B[1;32m----> 1\u001B[0m output \u001B[38;5;241m=\u001B[39m \u001B[43mllm\u001B[49m\u001B[38;5;241m.\u001B[39minvoke(prompt)\n\u001B[0;32m      2\u001B[0m \u001B[38;5;28mprint\u001B[39m(output)\n",
      "\u001B[1;31mNameError\u001B[0m: name 'llm' is not defined"
     ]
    }
   ],
   "execution_count": 15
  },
  {
   "cell_type": "markdown",
   "id": "22e61c43",
   "metadata": {},
   "source": [
    "### Json Format"
   ]
  },
  {
   "cell_type": "code",
   "execution_count": 27,
   "id": "e1f62530",
   "metadata": {},
   "outputs": [],
   "source": [
    "from langchain.output_parsers import StructuredOutputParser, ResponseSchema"
   ]
  },
  {
   "cell_type": "code",
   "execution_count": 28,
   "id": "ec100042",
   "metadata": {},
   "outputs": [],
   "source": [
    "response_schemas = [\n",
    "    ResponseSchema(name=\"currency\", description=\"answer to the user's question\"),\n",
    "    ResponseSchema(name=\"abbrevation\", description=\"Whats the abbrebation of that currency\")\n",
    "]"
   ]
  },
  {
   "cell_type": "code",
   "execution_count": 29,
   "id": "fc33fc3a",
   "metadata": {},
   "outputs": [],
   "source": [
    "output_parser = StructuredOutputParser.from_response_schemas(response_schemas)"
   ]
  },
  {
   "cell_type": "code",
   "execution_count": 30,
   "id": "26f67e1f",
   "metadata": {},
   "outputs": [
    {
     "name": "stdout",
     "output_type": "stream",
     "text": [
      "response_schemas=[ResponseSchema(name='currency', description=\"answer to the user's question\", type='string'), ResponseSchema(name='abbrevation', description='Whats the abbrebation of that currency', type='string')]\n"
     ]
    }
   ],
   "source": [
    "print(output_parser)"
   ]
  },
  {
   "cell_type": "code",
   "execution_count": 31,
   "id": "99da901c",
   "metadata": {},
   "outputs": [
    {
     "name": "stdout",
     "output_type": "stream",
     "text": [
      "The output should be a markdown code snippet formatted in the following schema, including the leading and trailing \"```json\" and \"```\":\n",
      "\n",
      "```json\n",
      "{\n",
      "\t\"currency\": string  // answer to the user's question\n",
      "\t\"abbrevation\": string  // Whats the abbrebation of that currency\n",
      "}\n",
      "```\n"
     ]
    }
   ],
   "source": [
    "format_instructions = output_parser.get_format_instructions()\n",
    "print(format_instructions)"
   ]
  },
  {
   "cell_type": "code",
   "execution_count": 32,
   "id": "77c5edbb",
   "metadata": {},
   "outputs": [],
   "source": [
    "prompt = PromptTemplate(\n",
    "    template=\"answer the users question as best as possible.\\n{format_instructions}\\n{query}\",\n",
    "    input_variables=[\"query\"],\n",
    "    partial_variables={\"format_instructions\": format_instructions}\n",
    ")"
   ]
  },
  {
   "cell_type": "code",
   "execution_count": 33,
   "id": "73c51a36",
   "metadata": {},
   "outputs": [
    {
     "name": "stdout",
     "output_type": "stream",
     "text": [
      "input_variables=['query'] partial_variables={'format_instructions': 'The output should be a markdown code snippet formatted in the following schema, including the leading and trailing \"```json\" and \"```\":\\n\\n```json\\n{\\n\\t\"currency\": string  // answer to the user\\'s question\\n\\t\"abbrevation\": string  // Whats the abbrebation of that currency\\n}\\n```'} template='answer the users question as best as possible.\\n{format_instructions}\\n{query}'\n"
     ]
    }
   ],
   "source": [
    "print(prompt)"
   ]
  },
  {
   "cell_type": "code",
   "execution_count": 34,
   "id": "ff141052",
   "metadata": {},
   "outputs": [],
   "source": [
    "prompt = prompt.format(query=\"what's the currency of America?\")"
   ]
  },
  {
   "cell_type": "code",
   "execution_count": 35,
   "id": "a364adbd",
   "metadata": {},
   "outputs": [
    {
     "name": "stdout",
     "output_type": "stream",
     "text": [
      "answer the users question as best as possible.\n",
      "The output should be a markdown code snippet formatted in the following schema, including the leading and trailing \"```json\" and \"```\":\n",
      "\n",
      "```json\n",
      "{\n",
      "\t\"currency\": string  // answer to the user's question\n",
      "\t\"abbrevation\": string  // Whats the abbrebation of that currency\n",
      "}\n",
      "```\n",
      "what's the currency of America?\n"
     ]
    }
   ],
   "source": [
    "print(prompt)"
   ]
  },
  {
   "cell_type": "code",
   "execution_count": 36,
   "id": "9e1c69de",
   "metadata": {},
   "outputs": [
    {
     "name": "stdout",
     "output_type": "stream",
     "text": [
      "\n",
      "```json\n",
      "{\n",
      "\t\"currency\": \"United States dollar\",\n",
      "\t\"abbreviation\": \"USD\"\n",
      "}\n",
      "```\n"
     ]
    }
   ],
   "source": [
    "output = llm.invoke(prompt)\n",
    "print(output)"
   ]
  }
 ],
 "metadata": {
  "kernelspec": {
   "display_name": "Python 3 (ipykernel)",
   "language": "python",
   "name": "python3"
  },
  "language_info": {
   "codemirror_mode": {
    "name": "ipython",
    "version": 3
   },
   "file_extension": ".py",
   "mimetype": "text/x-python",
   "name": "python",
   "nbconvert_exporter": "python",
   "pygments_lexer": "ipython3",
   "version": "3.10.8"
  }
 },
 "nbformat": 4,
 "nbformat_minor": 5
}
