{
 "cells": [
  {
   "cell_type": "markdown",
   "id": "336b9395",
   "metadata": {},
   "source": [
    "# Generic Chains Overview"
   ]
  },
  {
   "cell_type": "markdown",
   "id": "1dcb42ef",
   "metadata": {},
   "source": [
    "## Simple Chain"
   ]
  },
  {
   "cell_type": "markdown",
   "id": "0b094e82",
   "metadata": {},
   "source": [
    "<font color='green'>\n",
    "The most elementary type of chain is known as a basic chain, which represents the simplest form of crafting a chain. <br>In this setup, there is only one Language Model (LLM) responsible for receiving an input prompt and using it for generating text.\n",
    "<font>"
   ]
  },
  {
   "cell_type": "code",
   "id": "43b5cfff",
   "metadata": {
    "ExecuteTime": {
     "end_time": "2024-12-26T16:46:12.967386Z",
     "start_time": "2024-12-26T16:46:12.963538Z"
    }
   },
   "source": [
    "#Please install the package as per your requirement :)\n",
    "#!pip install openai==1.14.2\n",
    "#!pip install langchain==0.1.13\n",
    "#!pip install huggingface-hub==0.21.4\n",
    "#!pip install langchain-openai==0.1.0"
   ],
   "outputs": [],
   "execution_count": 91
  },
  {
   "cell_type": "code",
   "id": "6b36c04f",
   "metadata": {
    "ExecuteTime": {
     "end_time": "2024-12-26T16:46:12.980681Z",
     "start_time": "2024-12-26T16:46:12.975927Z"
    }
   },
   "source": [
    "from dotenv import load_dotenv\n",
    "\n",
    "load_dotenv()"
   ],
   "outputs": [
    {
     "data": {
      "text/plain": [
       "True"
      ]
     },
     "execution_count": 92,
     "metadata": {},
     "output_type": "execute_result"
    }
   ],
   "execution_count": 92
  },
  {
   "cell_type": "code",
   "id": "a8d7c528",
   "metadata": {
    "ExecuteTime": {
     "end_time": "2024-12-26T16:46:13.001593Z",
     "start_time": "2024-12-26T16:46:12.998087Z"
    }
   },
   "source": [
    "from langchain.prompts import PromptTemplate\n",
    "from langchain.chains import LLMChain\n",
    "from langchain.llms import HuggingFaceEndpoint"
   ],
   "outputs": [],
   "execution_count": 93
  },
  {
   "metadata": {
    "ExecuteTime": {
     "end_time": "2024-12-26T16:46:13.140492Z",
     "start_time": "2024-12-26T16:46:13.009206Z"
    }
   },
   "cell_type": "code",
   "source": "llm = HuggingFaceEndpoint(repo_id=\"mistralai/Mistral-7B-Instruct-v0.2\")",
   "id": "5547ab07",
   "outputs": [],
   "execution_count": 94
  },
  {
   "metadata": {
    "ExecuteTime": {
     "end_time": "2024-12-26T16:46:13.153050Z",
     "start_time": "2024-12-26T16:46:13.150170Z"
    }
   },
   "cell_type": "code",
   "source": [
    "prompt = PromptTemplate(\n",
    "    input_variables=[\"place\"],\n",
    "    template=\"Best places to visit in {place}?\",\n",
    ")"
   ],
   "id": "436017aa",
   "outputs": [],
   "execution_count": 95
  },
  {
   "metadata": {
    "ExecuteTime": {
     "end_time": "2024-12-26T16:46:13.285531Z",
     "start_time": "2024-12-26T16:46:13.161533Z"
    }
   },
   "cell_type": "code",
   "source": [
    "chain = prompt | llm\n",
    "print(chain.invoke(\"India\"))"
   ],
   "id": "2477a555",
   "outputs": [
    {
     "name": "stdout",
     "output_type": "stream",
     "text": [
      " India, a country that has a rich heritage, diverse culture, mouth-watering cuisine and mesmerizing landscapes. It is a place where you can experience the charm of the Himalayas, the tranquility of the beaches, the vibrancy of the markets, and the grandeur of the palaces. Here is the list of the best places to visit in India that you should not miss.\n",
      "\n",
      "1. Agra – Taj Mahal\n",
      "\n",
      "Agra, a city located in the northern Indian state of Uttar Pradesh, is famous for its beautiful architecture and the Taj Mahal, a mausoleum made of white marble and adorned with semi-precious stones. It was built by Mughal Emperor Shah Jahan in memory of his beloved wife Mumtaz Mahal. The Taj Mahal is considered one of the Seven Wonders of the World and is a UNESCO World Heritage Site.\n",
      "\n",
      "2. Jaipur – The Pink City\n",
      "\n",
      "Jaipur, the capital city of Rajasthan, is known as the Pink City because of its pink-colored buildings. It is famous for its rich history, royal palaces, and beautiful architecture. Some of the must-visit places in Jaipur include Hawa Mahal, Amber Fort, and Jantar Mantar.\n",
      "\n",
      "3. Goa – Paradise on Earth\n",
      "\n",
      "Goa, located on the western coast of India, is known for its beautiful beaches, Portuguese architecture, and vibrant nightlife. It is a popular tourist destination for both domestic and international travelers. Some of the best beaches in Goa include Calangute Beach, Baga Beach, and Anjuna Beach.\n",
      "\n",
      "4. Varanasi – The Spiritual City\n",
      "\n",
      "Varanasi, also known as Banaras, is a city located in the northern Indian state of Uttar Pradesh. It is famous for its spiritual significance and is considered one of the oldest continuously inhabited cities in the world. It is a place where you can witness the Ganga Aarti, explore the ghats, and experience the spirituality of India.\n",
      "\n",
      "5. Udaipur – The City of Lakes\n",
      "\n",
      "Udaipur, located in the southern Indian state of Rajasthan, is famous for its beautiful palaces, lakes, and gardens. It is also known as the City of Lakes\n"
     ]
    }
   ],
   "execution_count": 96
  },
  {
   "metadata": {},
   "cell_type": "markdown",
   "source": "## Simple Sequential Chains",
   "id": "c88205e2"
  },
  {
   "metadata": {},
   "cell_type": "markdown",
   "source": [
    "<font color='green'>\n",
    "Sequential Chains involves making a series of consecutive calls to the language model.<br> This approach proves especially valuable when there is a need to utilize the output generated from one call as the input for another call.\n",
    "<font>"
   ],
   "id": "4eb1850c"
  },
  {
   "cell_type": "code",
   "id": "92f94dc5",
   "metadata": {
    "ExecuteTime": {
     "end_time": "2024-12-26T16:46:13.295299Z",
     "start_time": "2024-12-26T16:46:13.292365Z"
    }
   },
   "source": [
    "from langchain.chains import SimpleSequentialChain\n",
    "\n",
    "template = \"\"\"You have to suggest 5 best places to visit in {place}?\n",
    "\n",
    "YOUR RESPONSE:\n",
    "\"\"\"\n",
    "places_prompt_template = PromptTemplate(\n",
    "    input_variables=[\"place\"],\n",
    "    template=template)"
   ],
   "outputs": [],
   "execution_count": 97
  },
  {
   "cell_type": "code",
   "id": "77104326",
   "metadata": {
    "ExecuteTime": {
     "end_time": "2024-12-26T16:46:13.434315Z",
     "start_time": "2024-12-26T16:46:13.310263Z"
    }
   },
   "source": [
    "place_llm = HuggingFaceEndpoint(\n",
    "    repo_id=\"mistralai/Mistral-7B-Instruct-v0.2\")  # Model link : https://huggingface.co/mistralai/Mistral-7B-Instruct-v0.2"
   ],
   "outputs": [],
   "execution_count": 98
  },
  {
   "cell_type": "code",
   "id": "aa350baf",
   "metadata": {
    "ExecuteTime": {
     "end_time": "2024-12-26T16:46:13.441272Z",
     "start_time": "2024-12-26T16:46:13.438829Z"
    }
   },
   "source": "place_chain = places_prompt_template | place_llm",
   "outputs": [],
   "execution_count": 99
  },
  {
   "cell_type": "code",
   "id": "d4ea5942",
   "metadata": {
    "ExecuteTime": {
     "end_time": "2024-12-26T16:46:13.450812Z",
     "start_time": "2024-12-26T16:46:13.448296Z"
    }
   },
   "source": [
    "template = \"\"\"Given a list a places, please estimate the expenses to visit all of them in local currency and also the days needed\n",
    "{expenses}\n",
    "\n",
    "YOUR RESPONSE:\n",
    "\"\"\"\n",
    "expenses_prompt_template = PromptTemplate(\n",
    "    input_variables=[\"expenses\"],\n",
    "    template=template)"
   ],
   "outputs": [],
   "execution_count": 100
  },
  {
   "metadata": {
    "ExecuteTime": {
     "end_time": "2024-12-26T16:45:33.444492Z",
     "start_time": "2024-12-26T16:45:33.441034Z"
    }
   },
   "cell_type": "code",
   "outputs": [],
   "execution_count": 74,
   "source": "#llm = OpenAI()",
   "id": "61ca518d"
  },
  {
   "metadata": {
    "ExecuteTime": {
     "end_time": "2024-12-26T16:46:13.461023Z",
     "start_time": "2024-12-26T16:46:13.458726Z"
    }
   },
   "cell_type": "code",
   "source": [
    "# expenses_chain = LLMChain(llm=llm, prompt=expenses_prompt_template)\n",
    "expenses_chain = expenses_prompt_template | llm"
   ],
   "id": "ef315099",
   "outputs": [],
   "execution_count": 101
  },
  {
   "cell_type": "code",
   "id": "16e97f98",
   "metadata": {
    "ExecuteTime": {
     "end_time": "2024-12-26T16:46:13.471404Z",
     "start_time": "2024-12-26T16:46:13.468656Z"
    }
   },
   "source": [
    "#final_chain = SimpleSequentialChain(chains=[place_chain, expenses_chain], verbose=True)\n",
    "#final_chain = place_chain | expenses_chain\n",
    "\n",
    "from langchain_core.output_parsers import StrOutputParser\n",
    "final_chain = place_chain | expenses_chain | StrOutputParser()"
   ],
   "outputs": [],
   "execution_count": 102
  },
  {
   "cell_type": "code",
   "id": "98487cc4",
   "metadata": {
    "ExecuteTime": {
     "end_time": "2024-12-26T16:46:19.998794Z",
     "start_time": "2024-12-26T16:46:13.479447Z"
    }
   },
   "source": "final_chain.invoke(\"India\")",
   "outputs": [
    {
     "data": {
      "text/plain": [
       "\"\\nTo estimate the expenses and days needed to visit all these places in Spain, we need to make some assumptions. Let's assume an average daily expense for one person, including accommodation, meals, and transportation, to be around €100 in each city. This is a rough estimate and actual expenses may vary depending on individual preferences and travel styles.\\n\\nNow, let's calculate the expenses for each city and the total number of days needed.\\n\\n1. Barcelona: 5 days, €500\\n2. Madrid: 3 days, €300\\n3. Seville: 2 days, €200\\n4. Valencia: 2 days, €200\\n5. Granada: 2 days, €200\\n\\nTotal expenses: €1400\\nTotal number of days: 12 days\\n\\nPlease keep in mind that these estimates do not include flights to and from Spain, as well as optional activities and sightseeing expenses. These estimates are based on an average daily expense of €100 per person, and individual expenses may vary depending on travel style and preferences.\""
      ]
     },
     "execution_count": 103,
     "metadata": {},
     "output_type": "execute_result"
    }
   ],
   "execution_count": 103
  }
 ],
 "metadata": {
  "kernelspec": {
   "display_name": "Python 3 (ipykernel)",
   "language": "python",
   "name": "python3"
  },
  "language_info": {
   "codemirror_mode": {
    "name": "ipython",
    "version": 3
   },
   "file_extension": ".py",
   "mimetype": "text/x-python",
   "name": "python",
   "nbconvert_exporter": "python",
   "pygments_lexer": "ipython3",
   "version": "3.10.8"
  }
 },
 "nbformat": 4,
 "nbformat_minor": 5
}
